{
  "nbformat": 4,
  "nbformat_minor": 0,
  "metadata": {
    "colab": {
      "name": "Numeric Operators.ipynb",
      "provenance": [],
      "collapsed_sections": [],
      "authorship_tag": "ABX9TyM8AcLMeOI+JWiJJnFwv8ba",
      "include_colab_link": true
    },
    "kernelspec": {
      "name": "python3",
      "display_name": "Python 3"
    }
  },
  "cells": [
    {
      "cell_type": "markdown",
      "metadata": {
        "id": "view-in-github",
        "colab_type": "text"
      },
      "source": [
        "<a href=\"https://colab.research.google.com/github/RSMPAVAN/Python-for-Data-Science/blob/master/Numeric_Operators.ipynb\" target=\"_parent\"><img src=\"https://colab.research.google.com/assets/colab-badge.svg\" alt=\"Open In Colab\"/></a>"
      ]
    },
    {
      "cell_type": "code",
      "metadata": {
        "id": "c7IzdnS6LNR7",
        "colab_type": "code",
        "colab": {
          "base_uri": "https://localhost:8080/",
          "height": 118
        },
        "outputId": "00b5a100-2433-447d-efa4-726d8ef00151"
      },
      "source": [
        "#declere variables.\n",
        "\n",
        "a = 10\n",
        "b = 10\n",
        "c = 0\n",
        "\n",
        "#max length of an integer is upto 18 digits. \n",
        "\n",
        "#lets get the values from the user..  we use input function to get the values from the user with a prompt. value inside the quotes is text to be prompoted to the user.\n",
        "\n",
        "a = input('Enter value a')\n",
        "b= input('Enter value b')\n",
        "#return the type of a & b as str. because input function return any value in str format only.\n",
        "#any value from input /network will be in string . if we want to do any maths with that value \n",
        "# we have to convert that into a required format.\n",
        "#we have to use type casting functions to change the type & perform the neccesary operations\n",
        "\n",
        "#int/float to string - str(a)\n",
        "#string to int / float  - int(a) or float(a) ##\"\"works only when all charecters in the string is numbers. if any alphabets is present - it will throw you an error.\"\"\n",
        "\n",
        "print(type(a),type(b))\n",
        "\n",
        "a = int(input('Enter a'))\n",
        "b = int(input('Enter b'))\n",
        "#type will int - using a type casting function we changed the type of a,b from str to int \n",
        "\n",
        "print(type(a),type(b),a,b)\n"
      ],
      "execution_count": 38,
      "outputs": [
        {
          "output_type": "stream",
          "text": [
            "Enter value a10\n",
            "Enter value b10\n",
            "<class 'str'> <class 'str'>\n",
            "Enter a20\n",
            "Enter b20\n",
            "<class 'int'> <class 'int'> 20 20\n"
          ],
          "name": "stdout"
        }
      ]
    },
    {
      "cell_type": "code",
      "metadata": {
        "id": "cEKHSmEaLbtC",
        "colab_type": "code",
        "colab": {
          "base_uri": "https://localhost:8080/",
          "height": 50
        },
        "outputId": "5bad69d0-55ce-4c0c-a095-484921e6e83d"
      },
      "source": [
        "#Addition  or concatenate  + \n",
        "# + symbol works as a addition if both values are in int / float\n",
        "# + symbol works as concatentate ( put together) if both values are strings\n",
        "#if one value is int / float & another is string - it will throws Type error - \n",
        "\n",
        "x = 'hello'\n",
        "y= 'world'\n",
        "\n",
        "z = x+y\n",
        "c = a + b  \n",
        "print(c,z)\n",
        "y= '10'\n",
        "print(c + int(y))\n",
        "\n"
      ],
      "execution_count": 36,
      "outputs": [
        {
          "output_type": "stream",
          "text": [
            "20 helloworld\n",
            "30\n"
          ],
          "name": "stdout"
        }
      ]
    },
    {
      "cell_type": "code",
      "metadata": {
        "id": "Ci7zft4OL1eR",
        "colab_type": "code",
        "colab": {
          "base_uri": "https://localhost:8080/",
          "height": 34
        },
        "outputId": "31ae51d6-7192-4fc7-f063-5d439dbe19ed"
      },
      "source": [
        "#multiplications *\n",
        "\n",
        "c = a*b\n",
        "\n",
        "print(c)"
      ],
      "execution_count": 6,
      "outputs": [
        {
          "output_type": "stream",
          "text": [
            "100\n"
          ],
          "name": "stdout"
        }
      ]
    },
    {
      "cell_type": "code",
      "metadata": {
        "id": "eDhuqu3EL7i3",
        "colab_type": "code",
        "colab": {
          "base_uri": "https://localhost:8080/",
          "height": 34
        },
        "outputId": "98abe5d4-0058-4646-d7bd-512be40d8dac"
      },
      "source": [
        "#Substraction - \n",
        "\n",
        "c = a-b\n",
        "print(c)"
      ],
      "execution_count": 7,
      "outputs": [
        {
          "output_type": "stream",
          "text": [
            "0\n"
          ],
          "name": "stdout"
        }
      ]
    },
    {
      "cell_type": "code",
      "metadata": {
        "id": "qPeWpYufMCIL",
        "colab_type": "code",
        "colab": {
          "base_uri": "https://localhost:8080/",
          "height": 34
        },
        "outputId": "5857a026-53ec-4d1d-8dab-aeea1a75c71a"
      },
      "source": [
        "#Remainder %. very helpfull when u need to find whether a number is even  or odd.. \n",
        "\n",
        "c = a%b\n",
        "print(c)"
      ],
      "execution_count": 12,
      "outputs": [
        {
          "output_type": "stream",
          "text": [
            "0\n"
          ],
          "name": "stdout"
        }
      ]
    },
    {
      "cell_type": "code",
      "metadata": {
        "id": "Yrmo7awrMtcz",
        "colab_type": "code",
        "colab": {
          "base_uri": "https://localhost:8080/",
          "height": 34
        },
        "outputId": "a9a6b6d1-e9b5-433d-acdc-ccb371799271"
      },
      "source": [
        "# power **\n",
        "\n",
        "c = a**b\n",
        "print(c)"
      ],
      "execution_count": 9,
      "outputs": [
        {
          "output_type": "stream",
          "text": [
            "10000000000\n"
          ],
          "name": "stdout"
        }
      ]
    },
    {
      "cell_type": "code",
      "metadata": {
        "id": "MwfTQ3jWMykH",
        "colab_type": "code",
        "colab": {
          "base_uri": "https://localhost:8080/",
          "height": 34
        },
        "outputId": "e09fd456-e22a-47d0-a4b8-bace0c47e067"
      },
      "source": [
        "#division.  / - normal division . return the values along with decimal point also (if any ). also called as floting point division\n",
        "\n",
        "c = a/b\n",
        "print(c)\n",
        "\n"
      ],
      "execution_count": 10,
      "outputs": [
        {
          "output_type": "stream",
          "text": [
            "1.0\n"
          ],
          "name": "stdout"
        }
      ]
    },
    {
      "cell_type": "code",
      "metadata": {
        "id": "35ACXfKHNLjq",
        "colab_type": "code",
        "colab": {
          "base_uri": "https://localhost:8080/",
          "height": 34
        },
        "outputId": "5977e806-1ff5-475d-a337-7f2cd222da43"
      },
      "source": [
        "#division - // - floor division - return the nearst roud off integer value. also called as Interger division.\n",
        "\n",
        "c = a//b\n",
        "print(c)"
      ],
      "execution_count": 11,
      "outputs": [
        {
          "output_type": "stream",
          "text": [
            "1\n"
          ],
          "name": "stdout"
        }
      ]
    },
    {
      "cell_type": "markdown",
      "metadata": {
        "id": "Qfut_LE7NX-l",
        "colab_type": "text"
      },
      "source": [
        "Observation : // return the nearst integer value \n",
        "               / return the floating point value."
      ]
    },
    {
      "cell_type": "markdown",
      "metadata": {
        "id": "tjm5oHklOJAq",
        "colab_type": "text"
      },
      "source": [
        "Order of **Evaluation**. As like in Maths, some operators are more powerful than others.  Python follow an order called \"operator precedence\""
      ]
    },
    {
      "cell_type": "code",
      "metadata": {
        "id": "dM2fFqf1OL0W",
        "colab_type": "code",
        "colab": {
          "base_uri": "https://localhost:8080/",
          "height": 34
        },
        "outputId": "b538c878-c348-4438-8710-732e6871c94a"
      },
      "source": [
        "#consider an expression. it will results to 6.99. but how it got calulated. \n",
        "\n",
        "x = 1 + 2 * 3 - 4 /  5**6\n",
        "\n",
        "print(x)\n"
      ],
      "execution_count": 27,
      "outputs": [
        {
          "output_type": "stream",
          "text": [
            "6.999744\n"
          ],
          "name": "stdout"
        }
      ]
    },
    {
      "cell_type": "markdown",
      "metadata": {
        "id": "13wAuTsjO-4Y",
        "colab_type": "text"
      },
      "source": [
        "Paratheses has highest respect. follows by Power . follow by Multiplication / dvision / remainder  , follow by addition & substraction , follow by left to right.\n",
        "\n",
        "() - highest proiority \n",
        "**  - second highest proiority\n",
        "*, / , % - third highest proiority\n",
        "+,-  fourth highest priority.\n",
        "\n",
        "so based on the proioirty - our expression will evaluated from left to right.\n",
        "\n",
        "in the above example - ** in the right hand has high priority - \n",
        "5 **6 = 15625\n",
        "\n",
        "then division takes next prioirty - 4 / 15625 = 0.000256\n",
        "\n",
        "then multiplication takes next - 2 * 3 = 6\n",
        "\n",
        "then substraction takes next = 6 - 0.000256  = 5.999744\n",
        "\n",
        "then Addition takes next = 1 +  5.999744  = 6.999744\n",
        "\n"
      ]
    },
    {
      "cell_type": "code",
      "metadata": {
        "id": "Q3L1z3ybRK_B",
        "colab_type": "code",
        "colab": {
          "base_uri": "https://localhost:8080/",
          "height": 34
        },
        "outputId": "a92c580b-898f-4867-aada-690453deb3ee"
      },
      "source": [
        "#consider the expression - it will results u 11.0 - \n",
        "\n",
        "x = 1 + 2 ** 3 / 4 * 5\n",
        "#step 1 :  2** 3 = 8\n",
        "#step 2 :  8 /4 = 2.0\n",
        "#step 3 : 2.0 * 5 = 10.0\n",
        "#step 4: 1 + 10.0 = 11.0\n",
        "\n",
        "#re write the same expression with parathesis as per python execution - 1 +( ((2 **3)/4)*5)\n",
        "print(x)"
      ],
      "execution_count": 29,
      "outputs": [
        {
          "output_type": "stream",
          "text": [
            "11.0\n"
          ],
          "name": "stdout"
        }
      ]
    },
    {
      "cell_type": "code",
      "metadata": {
        "id": "J-83k0QQSSYt",
        "colab_type": "code",
        "colab": {
          "base_uri": "https://localhost:8080/",
          "height": 34
        },
        "outputId": "4df0d98b-5f24-429c-e6f0-92f23822d026"
      },
      "source": [
        "#type of a variable. \n",
        "\n",
        "# we have different types of constants - integer constant, floating point constant & string constant\n",
        "#it always important to what kind of value we are storing in the varaiable\n",
        "\n",
        "#we have type(variable_name) to know the type of the variable.\n",
        "\n",
        "#in python we dont declere type of the variable during the intilization .\n",
        " #so we can change the type of the varaiable at any time at any place. \n",
        " #same variable name can be used for differrent type of values. but memory holds the most latest one only.\n",
        " #first c is an int, later to float , later to string - if we print c, now value will be 'Hello!'\n",
        " \n",
        "\n",
        "type(c)\n",
        "#manuplate - c now to float\n",
        "c = 2.0\n",
        "type(c)\n",
        "#manuplate - c now to string \n",
        "c = \"hello!\"\n",
        "type(c)"
      ],
      "execution_count": 33,
      "outputs": [
        {
          "output_type": "execute_result",
          "data": {
            "text/plain": [
              "str"
            ]
          },
          "metadata": {
            "tags": []
          },
          "execution_count": 33
        }
      ]
    }
  ]
}