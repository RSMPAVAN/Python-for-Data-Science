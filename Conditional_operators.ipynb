{
  "nbformat": 4,
  "nbformat_minor": 0,
  "metadata": {
    "colab": {
      "name": "Conditional operators.ipynb",
      "provenance": [],
      "collapsed_sections": [],
      "authorship_tag": "ABX9TyOGOecqtpT9dkHxfGxcg1AD",
      "include_colab_link": true
    },
    "kernelspec": {
      "name": "python3",
      "display_name": "Python 3"
    }
  },
  "cells": [
    {
      "cell_type": "markdown",
      "metadata": {
        "id": "view-in-github",
        "colab_type": "text"
      },
      "source": [
        "<a href=\"https://colab.research.google.com/github/RSMPAVAN/Python-for-Data-Science/blob/master/Conditional_operators.ipynb\" target=\"_parent\"><img src=\"https://colab.research.google.com/assets/colab-badge.svg\" alt=\"Open In Colab\"/></a>"
      ]
    },
    {
      "cell_type": "code",
      "metadata": {
        "id": "JfwJFM3R8xnI",
        "colab_type": "code",
        "colab": {}
      },
      "source": [
        "#conditional expressions. \n",
        "\n",
        "# we have  6 conditions.\n",
        "\n",
        "# > - greater , < - less than , >= Greater than or equal to , <= Less than or equal to , == equal to, != Not Equal to \n",
        "\n",
        "#let declere some varaibles.\n",
        "\n",
        "x = 5\n",
        "y= 10\n"
      ],
      "execution_count": 0,
      "outputs": []
    },
    {
      "cell_type": "code",
      "metadata": {
        "id": "FojRM04-LXLb",
        "colab_type": "code",
        "outputId": "19debaac-4cf5-43c7-fac2-a10d0bb7bcb3",
        "colab": {
          "base_uri": "https://localhost:8080/",
          "height": 34
        }
      },
      "source": [
        "# > greater , < less than # here y is greater so we will get ouptut as y is greater.\n",
        "\n",
        "if x > y:\n",
        "  print(\"x is greater\")\n",
        "if x < y:\n",
        "  print(\"y is greater\")"
      ],
      "execution_count": 0,
      "outputs": [
        {
          "output_type": "stream",
          "text": [
            "y is greater\n"
          ],
          "name": "stdout"
        }
      ]
    },
    {
      "cell_type": "code",
      "metadata": {
        "id": "phuu3FTkLp9T",
        "colab_type": "code",
        "outputId": "2e7e0cd4-b3ed-4b2d-b212-f9f56da1a395",
        "colab": {
          "base_uri": "https://localhost:8080/",
          "height": 50
        }
      },
      "source": [
        "# >= , <=\n",
        "#lets change value in x to 10.\n",
        "\n",
        "x = 10\n",
        "\n",
        "if x >=y:\n",
        "  print('both are equal')\n",
        "if x<=y:\n",
        "  print('both are not equal')"
      ],
      "execution_count": 0,
      "outputs": [
        {
          "output_type": "stream",
          "text": [
            "both are equal\n",
            "both are not equal\n"
          ],
          "name": "stdout"
        }
      ]
    },
    {
      "cell_type": "code",
      "metadata": {
        "id": "ooT2GWQhM20w",
        "colab_type": "code",
        "outputId": "2f25fe38-4366-4f49-db9d-e94b61aeaa1c",
        "colab": {
          "base_uri": "https://localhost:8080/",
          "height": 34
        }
      },
      "source": [
        "# == equal or != not equal\n",
        "\n",
        "if x==y:\n",
        "  print('both are same')\n",
        "if x!=y:\n",
        "  print('both are not same')\n"
      ],
      "execution_count": 0,
      "outputs": [
        {
          "output_type": "stream",
          "text": [
            "both are same\n"
          ],
          "name": "stdout"
        }
      ]
    },
    {
      "cell_type": "code",
      "metadata": {
        "id": "isJVK-_aRyF7",
        "colab_type": "code",
        "colab": {
          "base_uri": "https://localhost:8080/",
          "height": 34
        },
        "outputId": "0f8858e4-dfe5-4589-ea91-7c4470885e4e"
      },
      "source": [
        "#lets change x=5  - two way decision...\n",
        "\n",
        "x = 5\n",
        "\n",
        "if x > y:\n",
        "  print(\" x is larger than y\")\n",
        "else:\n",
        "  print('x is less than y')\n"
      ],
      "execution_count": 10,
      "outputs": [
        {
          "output_type": "stream",
          "text": [
            "x is less than y\n"
          ],
          "name": "stdout"
        }
      ]
    }
  ]
}