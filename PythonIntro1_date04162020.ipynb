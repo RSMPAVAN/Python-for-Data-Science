{
  "nbformat": 4,
  "nbformat_minor": 0,
  "metadata": {
    "colab": {
      "name": "PythonIntro1_date04162020.ipynb",
      "provenance": []
    },
    "kernelspec": {
      "name": "python3",
      "display_name": "Python 3"
    }
  },
  "cells": [
    {
      "cell_type": "code",
      "metadata": {
        "id": "SzLz4XXA8VgM",
        "colab_type": "code",
        "colab": {
          "base_uri": "https://localhost:8080/",
          "height": 34
        },
        "outputId": "0b3033a3-f56b-40d9-ba1f-ed393bab2b2c"
      },
      "source": [
        "print('Welcome to Tech series of \"Python for Data Science')"
      ],
      "execution_count": 1,
      "outputs": [
        {
          "output_type": "stream",
          "text": [
            "Welcome to Tech series of \"Python for Data Science!!!\"\n"
          ],
          "name": "stdout"
        }
      ]
    },
    {
      "cell_type": "code",
      "metadata": {
        "id": "ImfdAtAW-GkA",
        "colab_type": "code",
        "colab": {
          "base_uri": "https://localhost:8080/",
          "height": 134
        },
        "outputId": "8087cbdb-06d5-419b-c127-7036368c782d"
      },
      "source": [
        "A=5\n",
        "B=2\n",
        "\n",
        "print(A + B, ',Addition')\n",
        "print(A -B , ',Substraction')\n",
        "print(A*2, ',Multiply')\n",
        "print(A/2, ',Normal Division')\n",
        "print(A//2,',Floor Division')\n",
        "print(A**B,',A to the Power of B')\n",
        "print(A%B, ',Modules')"
      ],
      "execution_count": 6,
      "outputs": [
        {
          "output_type": "stream",
          "text": [
            "7 ,Addition\n",
            "3 ,Substraction\n",
            "10 ,Multiply\n",
            "2.5 ,Normal Division\n",
            "2 ,Floor Division\n",
            "25 ,A to the Power of B\n",
            "1 ,Modules\n"
          ],
          "name": "stdout"
        }
      ]
    },
    {
      "cell_type": "code",
      "metadata": {
        "id": "BtbEbQS-AKSD",
        "colab_type": "code",
        "colab": {
          "base_uri": "https://localhost:8080/",
          "height": 118
        },
        "outputId": "441beba9-d0d4-40ba-fb8e-7310a204988f"
      },
      "source": [
        "print('Python for Data Science\\n' * 5)\n"
      ],
      "execution_count": 7,
      "outputs": [
        {
          "output_type": "stream",
          "text": [
            "Python for Data Science\n",
            "Python for Data Science\n",
            "Python for Data Science\n",
            "Python for Data Science\n",
            "Python for Data Science\n",
            "\n"
          ],
          "name": "stdout"
        }
      ]
    }
  ]
}